{
 "cells": [
  {
   "cell_type": "markdown",
   "metadata": {},
   "source": [
    "# Get a list of outlets abbrevations in urls from genios\n",
    "\n",
    "- This program generates a dictionary which contains for 281 outlets the key-value-pairs:\n",
    "    \n",
    "        name of outlet - abbrevations used in links of genios\n",
    "        \n",
    "    \n",
    "- In the end, the dictionary is exported into a csv file, which helps with the webscraping of different terms across all outlets"
   ]
  },
  {
   "cell_type": "code",
   "execution_count": 108,
   "metadata": {},
   "outputs": [
    {
     "name": "stdout",
     "output_type": "stream",
     "text": [
      "Last update: 2020-02-27 11:35:58.851246\n"
     ]
    }
   ],
   "source": [
    "import datetime\n",
    "print('Last update: ' + str(datetime.datetime.today()))"
   ]
  },
  {
   "cell_type": "code",
   "execution_count": 87,
   "metadata": {},
   "outputs": [],
   "source": [
    "from bs4 import BeautifulSoup\n",
    "import re\n",
    "import pandas as pd"
   ]
  },
  {
   "cell_type": "code",
   "execution_count": 105,
   "metadata": {},
   "outputs": [],
   "source": [
    "dic_outlets = {}\n",
    "\n",
    "for x in range(1,11): # loop through the 10 pages of outlets\n",
    "    \n",
    "\t# open single page\n",
    "\tfilename = '/Users/marcfabel/Dropbox/greta_cons_Dx/analysis/data/source/media/genios_sources_list/source' +str(x)+ '.htm'\n",
    "\tsoup = BeautifulSoup(open(filename), 'html.parser')\n",
    "\t# find source list\n",
    "\tsources = soup.find(class_=\"sourceLists\")\n",
    "\tlist_sources = sources.find_all('a')\n",
    "    \n",
    "\tj = 0\n",
    "\twhile j < len(list_sources): # loop on the page through all outlets\n",
    "\t    abbr = re.search('\\/[A-Z]+\\?', list_sources[j].get('href')).group(0)[1:-1]\n",
    "\t    dic_outlets[list_sources[j].get_text()] = abbr\n",
    "\t    j += 1      "
   ]
  },
  {
   "cell_type": "code",
   "execution_count": 106,
   "metadata": {},
   "outputs": [
    {
     "name": "stdout",
     "output_type": "stream",
     "text": [
      "281\n"
     ]
    }
   ],
   "source": [
    "print(len(dic_outlets))"
   ]
  },
  {
   "cell_type": "code",
   "execution_count": 107,
   "metadata": {},
   "outputs": [
    {
     "data": {
      "text/html": [
       "<div>\n",
       "<style scoped>\n",
       "    .dataframe tbody tr th:only-of-type {\n",
       "        vertical-align: middle;\n",
       "    }\n",
       "\n",
       "    .dataframe tbody tr th {\n",
       "        vertical-align: top;\n",
       "    }\n",
       "\n",
       "    .dataframe thead th {\n",
       "        text-align: right;\n",
       "    }\n",
       "</style>\n",
       "<table border=\"1\" class=\"dataframe\">\n",
       "  <thead>\n",
       "    <tr style=\"text-align: right;\">\n",
       "      <th></th>\n",
       "      <th>abbrevation</th>\n",
       "    </tr>\n",
       "    <tr>\n",
       "      <th>outlet name</th>\n",
       "      <th></th>\n",
       "    </tr>\n",
       "  </thead>\n",
       "  <tbody>\n",
       "    <tr>\n",
       "      <td>Aachener Nachrichten</td>\n",
       "      <td>AAN</td>\n",
       "    </tr>\n",
       "    <tr>\n",
       "      <td>Aachener Zeitung</td>\n",
       "      <td>AAZ</td>\n",
       "    </tr>\n",
       "    <tr>\n",
       "      <td>Aar-Bote</td>\n",
       "      <td>AARB</td>\n",
       "    </tr>\n",
       "    <tr>\n",
       "      <td>Achimer Kreisblatt</td>\n",
       "      <td>ACKB</td>\n",
       "    </tr>\n",
       "    <tr>\n",
       "      <td>Alb Bote</td>\n",
       "      <td>ALBB</td>\n",
       "    </tr>\n",
       "    <tr>\n",
       "      <td>...</td>\n",
       "      <td>...</td>\n",
       "    </tr>\n",
       "    <tr>\n",
       "      <td>Wolfsburger Allgemeine Zeitung</td>\n",
       "      <td>WOAZ</td>\n",
       "    </tr>\n",
       "    <tr>\n",
       "      <td>Wormser Zeitung</td>\n",
       "      <td>WORZ</td>\n",
       "    </tr>\n",
       "    <tr>\n",
       "      <td>ZEIT Campus</td>\n",
       "      <td>ZTCS</td>\n",
       "    </tr>\n",
       "    <tr>\n",
       "      <td>ZEIT Geschichte</td>\n",
       "      <td>ZTGS</td>\n",
       "    </tr>\n",
       "    <tr>\n",
       "      <td>ZEIT Wissen</td>\n",
       "      <td>ZTWI</td>\n",
       "    </tr>\n",
       "  </tbody>\n",
       "</table>\n",
       "<p>281 rows × 1 columns</p>\n",
       "</div>"
      ],
      "text/plain": [
       "                               abbrevation\n",
       "outlet name                               \n",
       "Aachener Nachrichten                   AAN\n",
       "Aachener Zeitung                       AAZ\n",
       "Aar-Bote                              AARB\n",
       "Achimer Kreisblatt                    ACKB\n",
       "Alb Bote                              ALBB\n",
       "...                                    ...\n",
       "Wolfsburger Allgemeine Zeitung        WOAZ\n",
       "Wormser Zeitung                       WORZ\n",
       "ZEIT Campus                           ZTCS\n",
       "ZEIT Geschichte                       ZTGS\n",
       "ZEIT Wissen                           ZTWI\n",
       "\n",
       "[281 rows x 1 columns]"
      ]
     },
     "execution_count": 107,
     "metadata": {},
     "output_type": "execute_result"
    }
   ],
   "source": [
    "# export to csv\n",
    "df_outlets = pd.DataFrame.from_dict(dic_outlets, orient='index', columns=['abbrevation'])\n",
    "df_outlets.index.name = 'outlet name'\n",
    "df_outlets.to_csv('/Users/marcfabel/Dropbox/greta_cons_Dx/analysis/data/source/media/genios_sources_list/list_outlets_url_abbreviations.csv',\n",
    "                  index=True, sep=';')\n",
    "df_outlets"
   ]
  }
 ],
 "metadata": {
  "kernelspec": {
   "display_name": "Python 3",
   "language": "python",
   "name": "python3"
  },
  "language_info": {
   "codemirror_mode": {
    "name": "ipython",
    "version": 3
   },
   "file_extension": ".py",
   "mimetype": "text/x-python",
   "name": "python",
   "nbconvert_exporter": "python",
   "pygments_lexer": "ipython3",
   "version": "3.7.4"
  }
 },
 "nbformat": 4,
 "nbformat_minor": 4
}
